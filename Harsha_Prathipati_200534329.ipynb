{
 "cells": [
  {
   "cell_type": "code",
   "execution_count": 1,
   "id": "c5f466db",
   "metadata": {},
   "outputs": [],
   "source": [
    "import pandas as pd "
   ]
  },
  {
   "cell_type": "markdown",
   "id": "13b45584",
   "metadata": {},
   "source": [
    "# Question 1"
   ]
  },
  {
   "cell_type": "code",
   "execution_count": 2,
   "id": "06b5b9d6",
   "metadata": {},
   "outputs": [],
   "source": [
    "a = 0\n",
    "def b():\n",
    "    global a\n",
    "    a = c(a)\n",
    "def c(a):\n",
    "    return a + 2"
   ]
  },
  {
   "cell_type": "code",
   "execution_count": 3,
   "id": "7edfe7c5",
   "metadata": {},
   "outputs": [],
   "source": [
    "b()"
   ]
  },
  {
   "cell_type": "code",
   "execution_count": 4,
   "id": "090d8977",
   "metadata": {},
   "outputs": [],
   "source": [
    "b()"
   ]
  },
  {
   "cell_type": "code",
   "execution_count": 5,
   "id": "1eafe0b8",
   "metadata": {},
   "outputs": [],
   "source": [
    "b()"
   ]
  },
  {
   "cell_type": "code",
   "execution_count": 6,
   "id": "40b49d30",
   "metadata": {},
   "outputs": [
    {
     "data": {
      "text/plain": [
       "6"
      ]
     },
     "execution_count": 6,
     "metadata": {},
     "output_type": "execute_result"
    }
   ],
   "source": [
    "a"
   ]
  },
  {
   "cell_type": "markdown",
   "id": "78b834da",
   "metadata": {},
   "source": [
    "Value displayed is 6. Since we have executed 'b()' method/function, it calls the function 'c()' and increments the value of 'a' by 2. So, after we call the function 'b()' 3 times, the value of 'a' becomes 2+2+2 i.e, 6. "
   ]
  },
  {
   "cell_type": "markdown",
   "id": "cfc4f2d6",
   "metadata": {},
   "source": [
    "# Question 2"
   ]
  },
  {
   "cell_type": "code",
   "execution_count": 64,
   "id": "5e54ca69",
   "metadata": {},
   "outputs": [],
   "source": [
    "def file_length(file_name):\n",
    "    try:\n",
    "        file = open(file_name)\n",
    "        contents = file.read()\n",
    "        print(len(contents))\n",
    "        file.close()\n",
    "    except FileNotFoundError:\n",
    "        print(\"File\" +\" \"+ file_name +\" \"+\"not found\")\n",
    "   \n",
    "   "
   ]
  },
  {
   "cell_type": "code",
   "execution_count": 65,
   "id": "bf7cf2b3",
   "metadata": {},
   "outputs": [
    {
     "name": "stdout",
     "output_type": "stream",
     "text": [
      "3434\n"
     ]
    }
   ],
   "source": [
    "file_length(r\"C:\\Users\\Haritasa\\Downloads\\FurnitureProblem2.py\")"
   ]
  },
  {
   "cell_type": "code",
   "execution_count": 66,
   "id": "9ae38a49",
   "metadata": {},
   "outputs": [
    {
     "name": "stdout",
     "output_type": "stream",
     "text": [
      "File C:\\Users\\Haritasa\\Downloads\\FurnitureProblem24.py not found\n"
     ]
    }
   ],
   "source": [
    "file_length(r\"C:\\Users\\Haritasa\\Downloads\\FurnitureProblem24.py\")"
   ]
  },
  {
   "cell_type": "markdown",
   "id": "9d6159ae",
   "metadata": {},
   "source": [
    "# Question 3 "
   ]
  },
  {
   "cell_type": "code",
   "execution_count": 113,
   "id": "15932b93",
   "metadata": {},
   "outputs": [],
   "source": [
    "class Marsupial(object):\n",
    "    def __init__(self):\n",
    "        self.pouch_contents = []\n",
    "    \n",
    "    def put_in_pouch(self, thing):\n",
    "        self.pouch_contents.append(thing)\n",
    "    \n",
    "    def __str__(self):\n",
    "        return self.pouch_contents\n",
    "    "
   ]
  },
  {
   "cell_type": "code",
   "execution_count": 114,
   "id": "4364b5af",
   "metadata": {},
   "outputs": [],
   "source": [
    "m = Marsupial()"
   ]
  },
  {
   "cell_type": "code",
   "execution_count": 115,
   "id": "df2bc167",
   "metadata": {},
   "outputs": [],
   "source": [
    "m.put_in_pouch('doll')\n",
    "m.put_in_pouch('firetruck')\n",
    "m.put_in_pouch('kitten')"
   ]
  },
  {
   "cell_type": "code",
   "execution_count": 116,
   "id": "f020ceda",
   "metadata": {},
   "outputs": [
    {
     "data": {
      "text/plain": [
       "['doll', 'firetruck', 'kitten']"
      ]
     },
     "execution_count": 116,
     "metadata": {},
     "output_type": "execute_result"
    }
   ],
   "source": [
    "m.pouch_contents"
   ]
  },
  {
   "cell_type": "code",
   "execution_count": null,
   "id": "47a338ea",
   "metadata": {},
   "outputs": [],
   "source": [
    "class Kangaroo(Marsupial):\n",
    "    "
   ]
  },
  {
   "cell_type": "markdown",
   "id": "c0e20788",
   "metadata": {},
   "source": [
    "# Question 4"
   ]
  },
  {
   "cell_type": "code",
   "execution_count": 60,
   "id": "70d4f316",
   "metadata": {},
   "outputs": [
    {
     "name": "stdout",
     "output_type": "stream",
     "text": [
      "1\n",
      "------------\n",
      "10\n",
      "5\n",
      "16\n",
      "8\n",
      "4\n",
      "2\n",
      "1\n"
     ]
    }
   ],
   "source": [
    "def collatz(x):\n",
    "    print(x)\n",
    "    while x>1:\n",
    "        if x % 2 == 0:\n",
    "            print(x//2)\n",
    "            x = x //2\n",
    "        elif x % 2 ==1:\n",
    "            print(3*x+1)\n",
    "            x = 3*x+1\n",
    "        else:\n",
    "            print(x)\n",
    "collatz(1)\n",
    "print('------------')\n",
    "collatz(10)\n"
   ]
  },
  {
   "cell_type": "markdown",
   "id": "da5d8b08",
   "metadata": {},
   "source": [
    "# Question 5"
   ]
  },
  {
   "cell_type": "code",
   "execution_count": 13,
   "id": "6a057120",
   "metadata": {},
   "outputs": [
    {
     "name": "stdout",
     "output_type": "stream",
     "text": [
      "Enter a number: 9\n",
      "Binary equivalent:\n",
      "1001"
     ]
    }
   ],
   "source": [
    "l=[]\n",
    "def binary(b):\n",
    "    if(b==0):\n",
    "        return l\n",
    "    dig=b%2\n",
    "    l.append(dig)\n",
    "    binary(b//2)\n",
    "a=int(input(\"Enter a number: \"))\n",
    "binary(a)\n",
    "print(\"Binary equivalent:\")\n",
    "for i in l:\n",
    "    print(i,end=\"\")"
   ]
  },
  {
   "cell_type": "markdown",
   "id": "20019841",
   "metadata": {},
   "source": [
    "# Question 6"
   ]
  },
  {
   "cell_type": "code",
   "execution_count": 64,
   "id": "6c89d40e",
   "metadata": {},
   "outputs": [],
   "source": [
    "from html.parser import HTMLParser\n",
    "class HeadingParser(HTMLParser):\n",
    "    def handle_data(self, data):\n",
    "            print(data)"
   ]
  },
  {
   "cell_type": "code",
   "execution_count": 65,
   "id": "53164137",
   "metadata": {},
   "outputs": [
    {
     "name": "stdout",
     "output_type": "stream",
     "text": [
      "Change_me\n",
      "W3C Mission\n",
      "Principles\n"
     ]
    }
   ],
   "source": [
    "parser= HeadingParser()\n",
    "parser.feed('<!DOCTYPE html><html lang=\"en\"><head><meta name=\"description\" content=\"Webpage description goes here\" /><meta charset=\"utf-8\"><title>Change_me</title><meta name=\"viewport\" content=\"width=device-width, initial-scale=1\"><meta name=\"author\" content=\"\"><link rel=\"stylesheet\" href=\"css/style.css\"></head><body><h1>W3C Mission</h1><h2>Principles</h2></body></html>')"
   ]
  },
  {
   "cell_type": "markdown",
   "id": "45cf04eb",
   "metadata": {},
   "source": [
    "# Question 8\n"
   ]
  },
  {
   "cell_type": "code",
   "execution_count": null,
   "id": "a9ba63f7",
   "metadata": {},
   "outputs": [],
   "source": [
    "a) Select Temperature from table;\n",
    "b) Select Distinct City from table;\n",
    "c) Select * from table where Country='India';\n",
    "d) Select Rainfall from table;\n",
    "e) Select City, Country, Season from table where Rainfall BETWEEN 200 AND 400;\n",
    "f) Select City, Country from table where AVG(Temperature)>20;\n",
    "g) Select SUM(Rainfall) from table where City='Cairo';\n",
    "h) Select Season, SUM(Rainfall) from table GROUP BY Season;"
   ]
  },
  {
   "cell_type": "markdown",
   "id": "10ad44fc",
   "metadata": {},
   "source": [
    "# Question 9"
   ]
  },
  {
   "cell_type": "code",
   "execution_count": 14,
   "id": "5ebf661d",
   "metadata": {},
   "outputs": [],
   "source": [
    "words = ['The', 'quick', 'brown', 'fox', 'jumps', 'over','the', 'lazy', 'dog']"
   ]
  },
  {
   "cell_type": "code",
   "execution_count": 18,
   "id": "d0a47000",
   "metadata": {},
   "outputs": [
    {
     "name": "stdout",
     "output_type": "stream",
     "text": [
      "['THE', 'QUICK', 'BROWN', 'FOX', 'JUMPS', 'OVER', 'THE', 'LAZY', 'DOG']\n"
     ]
    }
   ],
   "source": [
    "list1= [i.upper() for i in words]\n",
    "print(list1)"
   ]
  },
  {
   "cell_type": "code",
   "execution_count": 20,
   "id": "0a899993",
   "metadata": {},
   "outputs": [
    {
     "name": "stdout",
     "output_type": "stream",
     "text": [
      "['the', 'quick', 'brown', 'fox', 'jumps', 'over', 'the', 'lazy', 'dog']\n"
     ]
    }
   ],
   "source": [
    "list2=[i.lower() for i in words]\n",
    "print(list2)"
   ]
  },
  {
   "cell_type": "code",
   "execution_count": 21,
   "id": "ef32cad6",
   "metadata": {},
   "outputs": [
    {
     "name": "stdout",
     "output_type": "stream",
     "text": [
      "[3, 5, 5, 3, 5, 4, 3, 4, 3]\n"
     ]
    }
   ],
   "source": [
    "list3= [len(i) for i in words]\n",
    "print(list3)"
   ]
  },
  {
   "cell_type": "code",
   "execution_count": 37,
   "id": "f87cc115",
   "metadata": {},
   "outputs": [
    {
     "name": "stdout",
     "output_type": "stream",
     "text": [
      "[['THE', 'the', 3], ['QUICK', 'quick', 5], ['BROWN', 'brown', 5], ['FOX', 'fox', 3], ['JUMPS', 'jumps', 5], ['OVER', 'over', 4], ['THE', 'the', 3], ['LAZY', 'lazy', 4], ['DOG', 'dog', 3]]\n"
     ]
    }
   ],
   "source": [
    "list4= [[i.upper(),i.lower(),len(i)] for i in words]\n",
    "print(list4)"
   ]
  },
  {
   "cell_type": "code",
   "execution_count": 29,
   "id": "762ad9f6",
   "metadata": {},
   "outputs": [
    {
     "name": "stdout",
     "output_type": "stream",
     "text": [
      "['quick', 'brown', 'jumps', 'over', 'lazy']\n"
     ]
    }
   ],
   "source": [
    "list5= [i for i in words if len(i)>=4]\n",
    "print(list5)"
   ]
  }
 ],
 "metadata": {
  "kernelspec": {
   "display_name": "Python 3 (ipykernel)",
   "language": "python",
   "name": "python3"
  },
  "language_info": {
   "codemirror_mode": {
    "name": "ipython",
    "version": 3
   },
   "file_extension": ".py",
   "mimetype": "text/x-python",
   "name": "python",
   "nbconvert_exporter": "python",
   "pygments_lexer": "ipython3",
   "version": "3.9.7"
  }
 },
 "nbformat": 4,
 "nbformat_minor": 5
}
